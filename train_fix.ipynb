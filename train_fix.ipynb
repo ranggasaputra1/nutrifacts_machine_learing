{
 "cells": [
  {
   "cell_type": "code",
   "execution_count": 4,
   "id": "499e3a0d",
   "metadata": {
    "tags": []
   },
   "outputs": [
    {
     "name": "stdout",
     "output_type": "stream",
     "text": [
      "Dataset pelatihan berhasil dimuat.\n",
      "Scaler berhasil disimpan.\n",
      "Model SVM berhasil disimpan.\n",
      "\n",
      "Accuracy: 0.7946\n"
     ]
    }
   ],
   "source": [
    "import numpy as np\n",
    "import pandas as pd\n",
    "import warnings\n",
    "warnings.filterwarnings(\"ignore\")\n",
    "\n",
    "from sklearn import preprocessing\n",
    "from sklearn.preprocessing import StandardScaler\n",
    "from sklearn.model_selection import train_test_split\n",
    "from sklearn.svm import SVC\n",
    "from sklearn.metrics import accuracy_score, f1_score, recall_score, precision_score\n",
    "import joblib\n",
    "\n",
    "# 1. Muat dataset pelatihan dari file 'your_file_updated.csv'\n",
    "df_train = pd.read_csv('your_file_updated.csv')\n",
    "print(\"Dataset pelatihan berhasil dimuat.\")\n",
    "\n",
    "# 2. Pra-pemrosesan Data\n",
    "# Tentukan fitur (X) dan target (y)\n",
    "features = ['calories', 'proteins', 'fat', 'carbohydrate']\n",
    "target = 'Food Score'\n",
    "\n",
    "# Isi nilai yang kosong (NaN) dengan 0\n",
    "df_train = df_train.fillna(0)\n",
    "\n",
    "# Ubah target (Food Score) dari string ke angka (0, 1, 2, 3, ...)\n",
    "label_encoder = preprocessing.LabelEncoder()\n",
    "df_train[target] = label_encoder.fit_transform(df_train[target])\n",
    "\n",
    "# Pisahkan fitur dan target\n",
    "X = df_train[features]\n",
    "y = df_train[target]\n",
    "\n",
    "# 3. Menskalakan Data dan Menyimpan Scaler\n",
    "PredictorScaler = StandardScaler()\n",
    "X_scaled = PredictorScaler.fit_transform(X)\n",
    "\n",
    "# Simpan scaler yang sudah terlatih\n",
    "joblib.dump(PredictorScaler, 'scaler.joblib')\n",
    "print(\"Scaler berhasil disimpan.\")\n",
    "\n",
    "# 4. Melatih Model SVM dan Menyimpannya\n",
    "X_train, X_test, y_train, y_test = train_test_split(X_scaled, y, test_size=0.3, random_state=42)\n",
    "svm_model_linear = SVC(kernel='linear', C=1).fit(X_train, y_train)\n",
    "\n",
    "# Simpan model yang sudah terlatih\n",
    "joblib.dump(svm_model_linear, 'svm_model_linear.joblib')\n",
    "print(\"Model SVM berhasil disimpan.\")\n",
    "\n",
    "# 5. Evaluasi Model (Opsional)\n",
    "svm_predictions = svm_model_linear.predict(X_test)\n",
    "accuracy = accuracy_score(y_test, svm_predictions)\n",
    "print(f\"\\nAccuracy: {accuracy:.4f}\")"
   ]
  },
  {
   "cell_type": "code",
   "execution_count": null,
   "id": "2fb732e1-a566-42b1-826a-cc53426feafc",
   "metadata": {},
   "outputs": [],
   "source": []
  }
 ],
 "metadata": {
  "kernelspec": {
   "display_name": "Python 3 (ipykernel)",
   "language": "python",
   "name": "python3"
  },
  "language_info": {
   "codemirror_mode": {
    "name": "ipython",
    "version": 3
   },
   "file_extension": ".py",
   "mimetype": "text/x-python",
   "name": "python",
   "nbconvert_exporter": "python",
   "pygments_lexer": "ipython3",
   "version": "3.13.5"
  }
 },
 "nbformat": 4,
 "nbformat_minor": 5
}
