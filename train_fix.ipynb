{
 "cells": [
  {
   "cell_type": "code",
   "execution_count": 3,
   "id": "499e3a0d",
   "metadata": {
    "tags": []
   },
   "outputs": [
    {
     "name": "stdout",
     "output_type": "stream",
     "text": [
      "Dataset pelatihan berhasil dimuat.\n",
      "Scaler berhasil disimpan.\n",
      "\n",
      "Model SVM terbaik berhasil disimpan.\n",
      "\n",
      "==================================================\n",
      "             HASIL PELATIHAN MODEL SVM\n",
      "==================================================\n",
      "Hyperparameter Terbaik: {'C': 100, 'gamma': 0.1, 'kernel': 'rbf'}\n",
      "--------------------------------------------------\n",
      "Performa Model pada Data Uji:\n",
      "  Akurasi (Accuracy)  : 0.9406\n",
      "  F1-Score            : 0.9406\n",
      "  Recall              : 0.9406\n",
      "  Precision           : 0.9407\n",
      "==================================================\n"
     ]
    }
   ],
   "source": [
    "import numpy as np\n",
    "import pandas as pd\n",
    "import warnings\n",
    "warnings.filterwarnings(\"ignore\")\n",
    "\n",
    "from sklearn import preprocessing\n",
    "from sklearn.preprocessing import StandardScaler\n",
    "from sklearn.model_selection import train_test_split, GridSearchCV\n",
    "from sklearn.svm import SVC\n",
    "from sklearn.metrics import accuracy_score, f1_score, recall_score, precision_score\n",
    "import joblib\n",
    "\n",
    "# 1. Muat dataset pelatihan dari file 'dataset_training.csv'\n",
    "df_train = pd.read_csv('dataset_training.csv')\n",
    "print(\"Dataset pelatihan berhasil dimuat.\")\n",
    "\n",
    "# 2. Pra-pemrosesan Data\n",
    "features = ['calories', 'proteins', 'fat', 'carbohydrate']\n",
    "target = 'Food Score'\n",
    "\n",
    "df_train = df_train.fillna(0)\n",
    "label_encoder = preprocessing.LabelEncoder()\n",
    "df_train[target] = label_encoder.fit_transform(df_train[target])\n",
    "\n",
    "X = df_train[features]\n",
    "y = df_train[target]\n",
    "\n",
    "# 3. Menskalakan Data dan Menyimpan Scaler\n",
    "PredictorScaler = StandardScaler()\n",
    "X_scaled = PredictorScaler.fit_transform(X)\n",
    "joblib.dump(PredictorScaler, 'scaler.joblib')\n",
    "print(\"Scaler berhasil disimpan.\")\n",
    "\n",
    "# 4. Melatih Model SVM dengan Hyperparameter Tuning\n",
    "X_train, X_test, y_train, y_test = train_test_split(X_scaled, y, test_size=0.3, random_state=42)\n",
    "\n",
    "param_grid = {\n",
    "    'C': [0.1, 1, 10, 100],\n",
    "    'gamma': [1, 0.1, 0.01, 0.001],\n",
    "    'kernel': ['rbf']\n",
    "}\n",
    "\n",
    "# Hapus verbose=2 agar tidak menampilkan detail setiap proses fitting\n",
    "grid = GridSearchCV(SVC(), param_grid, refit=True)\n",
    "\n",
    "grid.fit(X_train, y_train)\n",
    "\n",
    "# Simpan model terbaik yang ditemukan oleh GridSearchCV\n",
    "svm_model_tuned = grid.best_estimator_\n",
    "joblib.dump(svm_model_tuned, 'svm_model_linear.joblib')\n",
    "print(\"\\nModel SVM terbaik berhasil disimpan.\")\n",
    "\n",
    "# 5. Evaluasi Model dan Menampilkan Output yang Rapi\n",
    "svm_predictions = svm_model_tuned.predict(X_test)\n",
    "accuracy = accuracy_score(y_test, svm_predictions)\n",
    "f1 = f1_score(y_test, svm_predictions, average='weighted')\n",
    "recall = recall_score(y_test, svm_predictions, average='weighted')\n",
    "precision = precision_score(y_test, svm_predictions, average='weighted')\n",
    "\n",
    "# Output yang rapi untuk skripsi\n",
    "print(\"\\n\" + \"=\"*50)\n",
    "print(\"             HASIL PELATIHAN MODEL SVM\")\n",
    "print(\"=\"*50)\n",
    "print(f\"Hyperparameter Terbaik: {grid.best_params_}\")\n",
    "print(\"-\" * 50)\n",
    "print(\"Performa Model pada Data Uji:\")\n",
    "print(f\"  Akurasi (Accuracy)  : {accuracy:.4f}\")\n",
    "print(f\"  F1-Score            : {f1:.4f}\")\n",
    "print(f\"  Recall              : {recall:.4f}\")\n",
    "print(f\"  Precision           : {precision:.4f}\")\n",
    "print(\"=\"*50)"
   ]
  },
  {
   "cell_type": "code",
   "execution_count": null,
   "id": "2fb732e1-a566-42b1-826a-cc53426feafc",
   "metadata": {},
   "outputs": [],
   "source": []
  }
 ],
 "metadata": {
  "kernelspec": {
   "display_name": "Python 3 (ipykernel)",
   "language": "python",
   "name": "python3"
  },
  "language_info": {
   "codemirror_mode": {
    "name": "ipython",
    "version": 3
   },
   "file_extension": ".py",
   "mimetype": "text/x-python",
   "name": "python",
   "nbconvert_exporter": "python",
   "pygments_lexer": "ipython3",
   "version": "3.13.5"
  }
 },
 "nbformat": 4,
 "nbformat_minor": 5
}
